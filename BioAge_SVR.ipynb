{
 "cells": [
  {
   "cell_type": "code",
   "execution_count": 42,
   "outputs": [],
   "source": [
    "import warnings\n",
    "from functools import wraps\n",
    "\n",
    "\n",
    "def ignore_warnings(f):\n",
    "    @wraps(f)\n",
    "    def inner(*args, **kwargs):\n",
    "        with warnings.catch_warnings(record=True) as w:\n",
    "            warnings.simplefilter(\"ignore\")\n",
    "            response = f(*args, **kwargs)\n",
    "        return response\n",
    "    return inner"
   ],
   "metadata": {
    "collapsed": false,
    "pycharm": {
     "name": "#%%\n"
    }
   }
  },
  {
   "cell_type": "code",
   "execution_count": 43,
   "outputs": [],
   "source": [
    "import sklearn\n",
    "import math\n",
    "import numpy as np\n",
    "import pandas as pd\n",
    "from sklearn.ensemble import RandomForestRegressor\n",
    "from sklearn.svm import SVR\n",
    "from sklearn.model_selection import cross_val_score\n",
    "from sklearn.metrics import r2_score as r2\n",
    "from sklearn.metrics import mean_absolute_error\n",
    "from sklearn.metrics import mean_squared_error\n",
    "from sklearn.model_selection import train_test_split\n",
    "from sklearn.preprocessing import Normalizer\n",
    "import matplotlib.pyplot as plt\n",
    "import seaborn as sns\n",
    "import stream as st"
   ],
   "metadata": {
    "collapsed": false,
    "pycharm": {
     "name": "#%%\n"
    }
   }
  },
  {
   "cell_type": "code",
   "execution_count": 44,
   "outputs": [
    {
     "name": "stdout",
     "output_type": "stream",
     "text": [
      "1.1\n"
     ]
    }
   ],
   "source": [
    "print(st.__version__)\n",
    "values = (np.load(\"../BIO_Ml/GSE52588/GSE52588_beta_fn.npz\"))[\"X\"]\n",
    "data = pd.read_csv(\"../BIO_Ml/GSE52588/GSE52588_samples.csv\", delim_whitespace=True)"
   ],
   "metadata": {
    "collapsed": false,
    "pycharm": {
     "name": "#%%\n"
    }
   }
  },
  {
   "cell_type": "code",
   "execution_count": 45,
   "outputs": [],
   "source": [
    "gene_names = pd.read_csv(\"../BIO_Ml/GSE52588/cpgs_annotations.csv\")\n",
    "cpg_names = pd.read_csv(\"../BIO_Ml/GSE52588/cpgs_annotations.csv\")\n",
    "cpg_names = cpg_names[\"ID_REF\"]\n",
    "cpg_names = cpg_names.replace(np.nan, \"0\")\n",
    "x_cpg = pd.DataFrame(data=values, columns=cpg_names[:422802])\n",
    "x_cpg[\"Age\"] = data[\"age\"]\n",
    "x_cpg[\"Gene_Name\"] = gene_names[\"UCSC_REFGENE_NAME\"]"
   ],
   "metadata": {
    "collapsed": false,
    "pycharm": {
     "name": "#%%\n"
    }
   }
  },
  {
   "cell_type": "code",
   "execution_count": 46,
   "outputs": [],
   "source": [
    "y = x_cpg[\"Age\"]\n",
    "#y = y.to_numpy()\n",
    "X = x_cpg.drop([\"Age\", \"Gene_Name\"], axis=1)\n",
    "X.columns.name = None\n",
    "y = y[29:]\n",
    "X = X[29:]\n",
    "X = X.reset_index(drop=True)\n",
    "y = y.reset_index(drop=True)\n",
    "#X = Normalizer().fit_transform(X)"
   ],
   "metadata": {
    "collapsed": false,
    "pycharm": {
     "name": "#%%\n"
    }
   }
  },
  {
   "cell_type": "code",
   "execution_count": 47,
   "outputs": [
    {
     "name": "stderr",
     "output_type": "stream",
     "text": [
      "savefig() got unexpected keyword argument \"ppi\" which is no longer supported as of 3.3 and will become an error two minor releases later\n"
     ]
    },
    {
     "data": {
      "text/plain": "<Figure size 720x720 with 1 Axes>",
      "image/png": "[encoded data removed]"
     },
     "metadata": {
      "needs_background": "light"
     },
     "output_type": "display_data"
    }
   ],
   "source": [
    "sns.kdeplot(data=y,\n",
    "            fill=True,\n",
    "            alpha=0.5,\n",
    "            palette=\"crest\",\n",
    "            linewidth=0)\n",
    "plt.rcParams[\"figure.figsize\"] = (10,10)\n",
    "plt.savefig(\"Graphs/general_density.png\", ppi = 400)\n",
    "plt.show()"
   ],
   "metadata": {
    "collapsed": false,
    "pycharm": {
     "name": "#%%\n"
    }
   }
  },
  {
   "cell_type": "code",
   "execution_count": 48,
   "outputs": [],
   "source": [
    "from sklearn.feature_selection import SelectKBest\n",
    "from sklearn.feature_selection import f_regression\n",
    "\n",
    "selector_k = SelectKBest(score_func=f_regression, k=47)\n",
    "fit = selector_k.fit(X, y)\n",
    "cols = selector_k.get_support(indices=True)\n",
    "X = X.iloc[:, cols]\n",
    "#X = fit.transform(X)\n",
    "#X.to_csv('out.zip', index=False, compression=\"zip\")"
   ],
   "metadata": {
    "collapsed": false,
    "pycharm": {
     "name": "#%%\n"
    }
   }
  },
  {
   "cell_type": "code",
   "execution_count": 49,
   "outputs": [],
   "source": [
    "column_lables = pd.DataFrame(data=X.columns)\n",
    "column_lables.to_csv(\"column_lables.csv\", index=False, header=False)"
   ],
   "metadata": {
    "collapsed": false,
    "pycharm": {
     "name": "#%% STREAM data prep\n"
    }
   }
  },
  {
   "cell_type": "code",
   "execution_count": 50,
   "outputs": [],
   "source": [
    "# adata = st.read(file_name='out.csv',delimiter=',')\n",
    "# st.add_cell_labels(adata,file_name='column_lables.csv')\n",
    "#\n",
    "# st.plot_visualization_2D(adata, method=\"umap\", n_neighbors=10)\n",
    "# st.seed_elastic_principal_graph(adata, n_clusters=10,use_vis=True)\n",
    "# st.plot_dimension_reduction(adata,n_components=2,show_graph=True,show_text=False)\n",
    "# st.plot_branches(adata,show_text=True)"
   ],
   "metadata": {
    "collapsed": false,
    "pycharm": {
     "name": "#%% STREAM\n"
    }
   }
  },
  {
   "cell_type": "code",
   "execution_count": 51,
   "outputs": [],
   "source": [
    "feature = 12\n",
    "ox = y\n",
    "oy = X.iloc[:, feature]"
   ],
   "metadata": {
    "collapsed": false,
    "pycharm": {
     "name": "#%% Отрисовать график на выбор по индексу\n"
    }
   }
  },
  {
   "cell_type": "code",
   "execution_count": 56,
   "outputs": [
    {
     "data": {
      "text/plain": "<pandas.io.formats.style.Styler at 0x1529c5e0c40>",
      "text/html": "<style type=\"text/css\">\n#T_b74fa_row0_col0, #T_b74fa_row1_col1, #T_b74fa_row2_col2, #T_b74fa_row3_col3 {\n  background-color: #b40426;\n  color: #f1f1f1;\n}\n#T_b74fa_row0_col1, #T_b74fa_row1_col0 {\n  background-color: #bb1b2c;\n  color: #f1f1f1;\n}\n#T_b74fa_row0_col2, #T_b74fa_row2_col0 {\n  background-color: #cc403a;\n  color: #f1f1f1;\n}\n#T_b74fa_row0_col3, #T_b74fa_row3_col0 {\n  background-color: #c53334;\n  color: #f1f1f1;\n}\n#T_b74fa_row1_col2, #T_b74fa_row2_col1 {\n  background-color: #c73635;\n  color: #f1f1f1;\n}\n#T_b74fa_row1_col3, #T_b74fa_row3_col1 {\n  background-color: #c43032;\n  color: #f1f1f1;\n}\n#T_b74fa_row2_col3, #T_b74fa_row3_col2 {\n  background-color: #be242e;\n  color: #f1f1f1;\n}\n</style>\n<table id=\"T_b74fa_\">\n  <thead>\n    <tr>\n      <th class=\"blank level0\" >&nbsp;</th>\n      <th class=\"col_heading level0 col0\" >cg02711724</th>\n      <th class=\"col_heading level0 col1\" >cg02711726</th>\n      <th class=\"col_heading level0 col2\" >cg06931676</th>\n      <th class=\"col_heading level0 col3\" >Age</th>\n    </tr>\n  </thead>\n  <tbody>\n    <tr>\n      <th id=\"T_b74fa_level0_row0\" class=\"row_heading level0 row0\" >cg02711724</th>\n      <td id=\"T_b74fa_row0_col0\" class=\"data row0 col0\" >1.000000</td>\n      <td id=\"T_b74fa_row0_col1\" class=\"data row0 col1\" >0.955476</td>\n      <td id=\"T_b74fa_row0_col2\" class=\"data row0 col2\" >0.865237</td>\n      <td id=\"T_b74fa_row0_col3\" class=\"data row0 col3\" >0.904374</td>\n    </tr>\n    <tr>\n      <th id=\"T_b74fa_level0_row1\" class=\"row_heading level0 row1\" >cg02711726</th>\n      <td id=\"T_b74fa_row1_col0\" class=\"data row1 col0\" >0.955476</td>\n      <td id=\"T_b74fa_row1_col1\" class=\"data row1 col1\" >1.000000</td>\n      <td id=\"T_b74fa_row1_col2\" class=\"data row1 col2\" >0.896174</td>\n      <td id=\"T_b74fa_row1_col3\" class=\"data row1 col3\" >0.913695</td>\n    </tr>\n    <tr>\n      <th id=\"T_b74fa_level0_row2\" class=\"row_heading level0 row2\" >cg06931676</th>\n      <td id=\"T_b74fa_row2_col0\" class=\"data row2 col0\" >0.865237</td>\n      <td id=\"T_b74fa_row2_col1\" class=\"data row2 col1\" >0.896174</td>\n      <td id=\"T_b74fa_row2_col2\" class=\"data row2 col2\" >1.000000</td>\n      <td id=\"T_b74fa_row2_col3\" class=\"data row2 col3\" >0.940773</td>\n    </tr>\n    <tr>\n      <th id=\"T_b74fa_level0_row3\" class=\"row_heading level0 row3\" >Age</th>\n      <td id=\"T_b74fa_row3_col0\" class=\"data row3 col0\" >0.904374</td>\n      <td id=\"T_b74fa_row3_col1\" class=\"data row3 col1\" >0.913695</td>\n      <td id=\"T_b74fa_row3_col2\" class=\"data row3 col2\" >0.940773</td>\n      <td id=\"T_b74fa_row3_col3\" class=\"data row3 col3\" >1.000000</td>\n    </tr>\n  </tbody>\n</table>\n"
     },
     "execution_count": 56,
     "metadata": {},
     "output_type": "execute_result"
    }
   ],
   "source": [
    "t_df = X\n",
    "t_df[\"Age\"] = y\n",
    "\n",
    "i = 0\n",
    "while i < 4:\n",
    "    if abs(np.around(np.corrcoef(ox, t_df.iloc[:, i])[0,1], 3)) < 0.9:\n",
    "        t_df = t_df.drop(t_df.columns[i], axis=1)\n",
    "        continue\n",
    "    i+=1\n",
    "\n",
    "corr = t_df.corr()\n",
    "corr.style.background_gradient(cmap='coolwarm',\n",
    "                               vmin=-1,\n",
    "                               vmax=1)"
   ],
   "metadata": {
    "collapsed": false,
    "pycharm": {
     "name": "#%% Отбор топ признаков\n"
    }
   }
  },
  {
   "cell_type": "code",
   "execution_count": 57,
   "outputs": [
    {
     "data": {
      "text/plain": "<Figure size 720x720 with 1 Axes>",
      "image/png": "[encoded data removed]"
     },
     "metadata": {
      "needs_background": "light"
     },
     "output_type": "display_data"
    },
    {
     "data": {
      "text/plain": "<Figure size 720x720 with 1 Axes>",
      "image/png": "[encoded data removed]"
     },
     "metadata": {
      "needs_background": "light"
     },
     "output_type": "display_data"
    },
    {
     "data": {
      "text/plain": "<Figure size 720x720 with 1 Axes>",
      "image/png": "[encoded data removed]"
     },
     "metadata": {
      "needs_background": "light"
     },
     "output_type": "display_data"
    }
   ],
   "source": [
    "for i in range(i-1):\n",
    "    oy = t_df.iloc[:, i]\n",
    "    fig = plt.figure()\n",
    "    ax = plt.axes()\n",
    "    m, b = np.polyfit(ox, oy, 1)\n",
    "    fig.text(0.15, 0.45,\n",
    "             s=np.around(np.corrcoef(ox,oy)[0,1], 3),\n",
    "             fontsize=15)\n",
    "    ax.plot(ox, m * ox + b, c=\"r\")\n",
    "    ax.scatter(ox, oy)\n",
    "    plt.xlabel(\"Age\")\n",
    "    plt.ylabel(oy[0])\n",
    "    plt.savefig(\"Graphs/corr_cpg_to_age\" + str(i) + \".png\")\n",
    "    fig.show"
   ],
   "metadata": {
    "collapsed": false,
    "pycharm": {
     "name": "#%% топ-n признаков\n"
    }
   }
  },
  {
   "cell_type": "code",
   "execution_count": null,
   "outputs": [],
   "source": [
    "X = X.drop([\"Age\"], axis=1)"
   ],
   "metadata": {
    "collapsed": false,
    "pycharm": {
     "name": "#%%\n"
    }
   }
  },
  {
   "cell_type": "code",
   "execution_count": null,
   "outputs": [],
   "source": [
    "fig3 = plt.figure()\n",
    "ax = plt.axes()\n",
    "cpg1 = X.iloc[:, 0]\n",
    "cpg2 = X.iloc[:, 1]\n",
    "\n",
    "image = ax.scatter(cpg1, cpg2, c=y)\n",
    "fig3.colorbar(image, ax=ax)\n",
    "df_columns = X.columns\n",
    "\n",
    "plt.rcParams[\"figure.figsize\"] = (10,10)\n",
    "plt.xlabel(df_columns[0])\n",
    "plt.ylabel(df_columns[1])\n",
    "plt.savefig(\"Graphs/3d_on_2d_cpg.png\", ppi = 400)\n",
    "fig3.show()"
   ],
   "metadata": {
    "collapsed": false,
    "pycharm": {
     "name": "#%% Отображение на плоскость\n"
    }
   }
  },
  {
   "cell_type": "code",
   "execution_count": null,
   "outputs": [],
   "source": [
    "gene_names = pd.read_csv(\"../BIO_Ml/GSE52588/cpgs_annotations.csv\")\n",
    "gene_names = gene_names[[\"ID_REF\", \"UCSC_REFGENE_NAME\"]]\n",
    "gene_names = gene_names.replace(np.nan, \"0\")\n",
    "\n",
    "important_cpgs = list(X.columns)\n",
    "gene_names = gene_names[gene_names[\"ID_REF\"].isin(important_cpgs)]\n",
    "gene_names = gene_names.drop(gene_names[gene_names[\"UCSC_REFGENE_NAME\"] == \"0\"].index).drop_duplicates()\n",
    "gene_names = gene_names[\"UCSC_REFGENE_NAME\"].drop_duplicates()\n",
    "\n",
    "for i in range(len(gene_names)):\n",
    "    gene_names.iloc[i] = set(gene_names.iloc[i].split(\";\"))\n",
    "\n",
    "gene_names = gene_names.reset_index()\n",
    "gene_names = gene_names[\"UCSC_REFGENE_NAME\"]\n",
    "# gene_names.to_excel(\"gene_names_CpG_based.xlsx\", index = False)"
   ],
   "metadata": {
    "collapsed": false,
    "pycharm": {
     "name": "#%% Запись генов в файл\n"
    }
   }
  },
  {
   "cell_type": "code",
   "execution_count": null,
   "outputs": [],
   "source": [
    "from sklearn.model_selection import StratifiedKFold\n",
    "from statistics import mean, stdev\n",
    "\n",
    "#regressor = RandomForestRegressor(n_estimators=42, criterion=\"absolute_error\", random_state=42)\n",
    "regressor = SVR(kernel=\"poly\", C=1.5)\n",
    "skf = StratifiedKFold(n_splits=2, shuffle=True, random_state=1)\n",
    "lst_accu_stratified = []\n",
    "\n",
    "for train_index, test_index in skf.split(X, y):\n",
    "    x_train_fold, x_test_fold = X.iloc[train_index], X.iloc[test_index]\n",
    "    y_train_fold, y_test_fold = y.iloc[train_index], y.iloc[test_index]\n",
    "    regressor.fit(x_train_fold, y_train_fold)\n",
    "    lst_accu_stratified.append(regressor.score(x_test_fold, y_test_fold))\n",
    "\n",
    "print('List of possible accuracy:', lst_accu_stratified)\n",
    "print('\\nMaximum Accuracy That can be obtained from this model is:',\n",
    "      max(lst_accu_stratified) * 100, '%')\n",
    "print('\\nMinimum Accuracy:',\n",
    "      min(lst_accu_stratified) * 100, '%')\n",
    "print('\\nOverall Accuracy:',\n",
    "      mean(lst_accu_stratified) * 100, '%')\n",
    "print('\\nStandard Deviation is:', stdev(lst_accu_stratified))"
   ],
   "metadata": {
    "collapsed": false,
    "pycharm": {
     "name": "#%%\n"
    }
   }
  },
  {
   "cell_type": "code",
   "execution_count": null,
   "outputs": [],
   "source": [
    "X_train, X_test, y_train, y_test = train_test_split(X, y, test_size=0.33, random_state=42)\n",
    "sns.kdeplot(y_train, color='b', fill=True, alpha=.2, linewidth=0)\n",
    "sns.kdeplot(y_test, color=\"r\", fill=True, alpha=.2, linewidth=0)\n",
    "plt.rcParams[\"figure.figsize\"] = (10,10)\n",
    "plt.legend([\"Train\", \"Test\"])\n",
    "plt.xlabel(\"Age\")\n",
    "plt.ylabel(\"Density\")\n",
    "plt.savefig(\"Graphs/train_test_density.png\", ppi = 400)\n",
    "plt.show()"
   ],
   "metadata": {
    "collapsed": false,
    "pycharm": {
     "name": "#%% Разбиение на трейн и тест\n"
    }
   }
  },
  {
   "cell_type": "code",
   "execution_count": null,
   "outputs": [],
   "source": [
    "regressor = SVR(kernel=\"poly\", C=1.5)\n",
    "model = regressor.fit(X_train, y_train)"
   ],
   "metadata": {
    "collapsed": false,
    "pycharm": {
     "name": "#%% построение модели\n"
    }
   }
  },
  {
   "cell_type": "code",
   "execution_count": null,
   "outputs": [],
   "source": [
    "y_pred = regressor.predict(X_test)\n",
    "res = pd.DataFrame({\"Actual\": y_test, \"Predicted\": y_pred,\n",
    "                    \"AE\": y_test - y_pred,\n",
    "                    \"SE\": (y_test - y_pred) ** 2})\n",
    "print(\"MAE: \", mean_absolute_error(y_test, y_pred), \"MSE: \", mean_squared_error(y_test, y_pred))\n",
    "print(res)\n"
   ],
   "metadata": {
    "collapsed": false,
    "pycharm": {
     "name": "#%%\n"
    }
   }
  },
  {
   "cell_type": "code",
   "execution_count": null,
   "outputs": [],
   "source": [
    "import shap\n",
    "X_train_summary = shap.kmeans(X_train, 10)\n",
    "#plt.plot([1, 2], [2, 3])\n",
    "\n",
    "@ignore_warnings\n",
    "def kernel_explain(X_train_summary, regressor, X_test):\n",
    "    ex = shap.KernelExplainer(regressor.predict, X_train_summary)\n",
    "    shap_values = ex.shap_values(X_test)\n",
    "    return shap_values, ex\n",
    "\n",
    "shap_values, ex = kernel_explain(X_train_summary, regressor, X_test)\n",
    "shap.summary_plot(shap_values, X_test, show=False)\n",
    "plt.tight_layout()\n",
    "plt.savefig(\"Graphs/shap_explanation_sumplot.png\")\n",
    "plt.show()"
   ],
   "metadata": {
    "collapsed": false,
    "pycharm": {
     "name": "#%%\n"
    }
   }
  },
  {
   "cell_type": "code",
   "execution_count": null,
   "outputs": [],
   "source": [
    "y_test = y_test.to_numpy()"
   ],
   "metadata": {
    "collapsed": false,
    "pycharm": {
     "name": "#%%\n"
    }
   }
  },
  {
   "cell_type": "code",
   "execution_count": null,
   "outputs": [],
   "source": [
    "fig4 = plt.figure()\n",
    "ax = plt.axes()\n",
    "\n",
    "plt.plot(y_pred, \".\", c=\"r\")\n",
    "plt.plot(y_test, \"o\", c=\"b\", alpha=0.3)\n",
    "plt.xlabel(\"Object\")\n",
    "plt.ylabel(\"Age\")\n",
    "plt.rcParams[\"figure.figsize\"] = (10,10)\n",
    "plt.legend([\"Predicted\", \"Actual\"])\n",
    "plt.savefig(\"Graphs/result.png\", ppi = 400)\n",
    "\n",
    "fig4.show()\n",
    "print(sklearn.__version__)"
   ],
   "metadata": {
    "collapsed": false,
    "pycharm": {
     "name": "#%%\n"
    }
   }
  }
 ],
 "metadata": {
  "kernelspec": {
   "display_name": "Python 3",
   "language": "python",
   "name": "python3"
  },
  "language_info": {
   "codemirror_mode": {
    "name": "ipython",
    "version": 2
   },
   "file_extension": ".py",
   "mimetype": "text/x-python",
   "name": "python",
   "nbconvert_exporter": "python",
   "pygments_lexer": "ipython2",
   "version": "2.7.6"
  }
 },
 "nbformat": 4,
 "nbformat_minor": 0
}