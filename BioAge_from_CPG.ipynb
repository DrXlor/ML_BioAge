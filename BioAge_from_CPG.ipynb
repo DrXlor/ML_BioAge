{
 "cells": [
  {
   "cell_type": "code",
   "execution_count": 115,
   "metadata": {
    "collapsed": true
   },
   "outputs": [],
   "source": [
    "import math\n",
    "import numpy as np\n",
    "import pandas as pd\n",
    "from sklearn.linear_model import LinearRegression\n",
    "from sklearn.ensemble import RandomForestRegressor\n",
    "from sklearn.svm import SVR\n",
    "from sklearn.model_selection import cross_val_score\n",
    "from sklearn.metrics import r2_score as r2\n",
    "from sklearn.metrics import mean_absolute_error\n",
    "from sklearn.metrics import mean_squared_error\n",
    "from sklearn.model_selection import train_test_split\n",
    "from sklearn.preprocessing import Normalizer\n",
    "from sklearn.decomposition import PCA\n",
    "import matplotlib.pyplot as plt\n",
    "from sklearn.feature_selection import SelectKBest\n",
    "from sklearn.feature_selection import chi2"
   ]
  },
  {
   "cell_type": "code",
   "execution_count": 116,
   "outputs": [],
   "source": [
    "X = (np.load(\"../BIO_Ml/GSE52588/GSE52588_beta_fn.npz\"))[\"X\"]\n",
    "data = pd.read_csv(\"../BIO_Ml/GSE52588/GSE52588_samples.csv\", delim_whitespace=True)\n",
    "names = pd.read_csv(\"../BIO_Ml/GSE52588/cpgs_annotations.csv\")\n",
    "names = names[\"UCSC_REFGENE_NAME\"]\n",
    "names = names.replace(np.nan, \"0\")"
   ],
   "metadata": {
    "collapsed": false,
    "pycharm": {
     "name": "#%%\n"
    }
   }
  },
  {
   "cell_type": "code",
   "execution_count": 117,
   "outputs": [],
   "source": [
    "y = data[\"age\"]\n",
    "y = y.to_numpy()\n",
    "X = Normalizer().fit_transform(X)"
   ],
   "metadata": {
    "collapsed": false,
    "pycharm": {
     "name": "#%%\n"
    }
   }
  },
  {
   "cell_type": "code",
   "execution_count": 118,
   "outputs": [
    {
     "data": {
      "text/plain": "<Figure size 432x288 with 1 Axes>",
      "image/png": "[encoded data removed]"
     },
     "metadata": {
      "needs_background": "light"
     },
     "output_type": "display_data"
    }
   ],
   "source": [
    "y = y[29:]\n",
    "X = X[29:]\n",
    "plt.hist(y)\n",
    "plt.show()\n"
   ],
   "metadata": {
    "collapsed": false,
    "pycharm": {
     "name": "#%%\n"
    }
   }
  },
  {
   "cell_type": "code",
   "execution_count": 119,
   "outputs": [],
   "source": [
    "test1 = SelectKBest(score_func=chi2, k=10000)\n",
    "fit = test1.fit(X, y)\n",
    "X = fit.transform(X)"
   ],
   "metadata": {
    "collapsed": false,
    "pycharm": {
     "name": "#%%\n"
    }
   }
  },
  {
   "cell_type": "code",
   "execution_count": 120,
   "outputs": [],
   "source": [
    "runs = 5\n",
    "important_features = [[] for i in range(runs)]\n",
    "\n",
    "selector = RandomForestRegressor(n_estimators=30, criterion=\"absolute_error\", random_state=42)\n",
    "for i in range(runs):\n",
    "    model = selector.fit(X, y)\n",
    "    importances = model.feature_importances_\n",
    "\n",
    "    for j in range(len(importances)):\n",
    "        important_features[i].append(list(importances).index(importances[j])) if importances[j] > 0 else 0"
   ],
   "metadata": {
    "collapsed": false,
    "pycharm": {
     "name": "#%%\n"
    }
   }
  },
  {
   "cell_type": "code",
   "execution_count": 121,
   "outputs": [],
   "source": [
    "for i in range(len(important_features) - 1):\n",
    "    if i != 0:\n",
    "         importances = set.intersection(*map(set, important_features))\n",
    "\n",
    "importances = list(importances)\n",
    "X = X[..., importances]"
   ],
   "metadata": {
    "collapsed": false,
    "pycharm": {
     "name": "#%%\n"
    }
   }
  },
  {
   "cell_type": "code",
   "execution_count": 122,
   "outputs": [],
   "source": [
    "#ax.scatter(y[1:], X[1:,0])\n",
    "#ax.scatter(y[0:1], X[0:1,0])\n",
    "#for i in range(5):\n",
    "#    ax.scatter(y, X[:,i])\n",
    "\n",
    "feature = 1\n",
    "ox = y\n",
    "oy = X[:, feature]"
   ],
   "metadata": {
    "collapsed": false,
    "pycharm": {
     "name": "#%%\n"
    }
   }
  },
  {
   "cell_type": "code",
   "execution_count": 123,
   "outputs": [
    {
     "name": "stderr",
     "output_type": "stream",
     "text": [
      "C:\\Users\\Eugen\\AppData\\Local\\Temp/ipykernel_10396/2117182321.py:9: UserWarning: Matplotlib is currently using module://matplotlib_inline.backend_inline, which is a non-GUI backend, so cannot show the figure.\n",
      "  fig1.show()\n",
      "C:\\Users\\Eugen\\AppData\\Local\\Temp/ipykernel_10396/2117182321.py:17: UserWarning: Matplotlib is currently using module://matplotlib_inline.backend_inline, which is a non-GUI backend, so cannot show the figure.\n",
      "  fig2.show()\n"
     ]
    },
    {
     "data": {
      "text/plain": "<Figure size 432x288 with 1 Axes>",
      "image/png": "[encoded data removed]"
     },
     "metadata": {
      "needs_background": "light"
     },
     "output_type": "display_data"
    },
    {
     "data": {
      "text/plain": "<Figure size 432x288 with 1 Axes>",
      "image/png": "[encoded data removed]"
     },
     "metadata": {
      "needs_background": "light"
     },
     "output_type": "display_data"
    }
   ],
   "source": [
    "fig1 = plt.figure()\n",
    "ax = plt.axes()\n",
    "\n",
    "ax.scatter(ox, oy)\n",
    "median = np.median(oy)\n",
    "ax.axhline(median, c=\"r\")\n",
    "ax.axhline((median - (0.1 * (max(oy - min(oy))))), c=\"r\", linestyle=\"-.\")\n",
    "ax.axhline((median + (0.1 * (max(oy - min(oy))))), c=\"r\", linestyle=\"-.\")\n",
    "fig1.show()\n",
    "\n",
    "fig2 = plt.figure()\n",
    "ax = plt.axes()\n",
    "ax.plot(ox, oy, 'o')\n",
    "m, b = np.polyfit(ox, oy, 1)\n",
    "ax.plot(ox, m * ox + b, c=\"r\")\n",
    "\n",
    "fig2.show()"
   ],
   "metadata": {
    "collapsed": false,
    "pycharm": {
     "name": "#%%\n"
    }
   }
  },
  {
   "cell_type": "code",
   "execution_count": 124,
   "outputs": [
    {
     "name": "stdout",
     "output_type": "stream",
     "text": [
      "6                 ATP2A1;ATP2A1\n",
      "25                            0\n",
      "8223                  BCOR;BCOR\n",
      "8228           TAF1;BCYRN1;TAF1\n",
      "38                         ETV6\n",
      "                 ...           \n",
      "4039                       BAT2\n",
      "6105                       SDK2\n",
      "8153                       PTH2\n",
      "6107                CNIH3;CNIH3\n",
      "8182    CASS4;CASS4;CASS4;CASS4\n",
      "Name: UCSC_REFGENE_NAME, Length: 330, dtype: object\n"
     ]
    }
   ],
   "source": [
    "#names = names[importances]\n",
    "#names = names.drop_duplicates()\n",
    "#print(names)\n",
    "#names.to_excel(\"../BIO_Ml/GSE52588/gene_names_CpG_based.xlsx\")"
   ],
   "metadata": {
    "collapsed": false,
    "pycharm": {
     "name": "#%%\n"
    }
   }
  },
  {
   "cell_type": "code",
   "execution_count": 125,
   "outputs": [
    {
     "data": {
      "text/plain": "<Figure size 432x288 with 1 Axes>",
      "image/png": "[encoded data removed]"
     },
     "metadata": {
      "needs_background": "light"
     },
     "output_type": "display_data"
    },
    {
     "data": {
      "text/plain": "<Figure size 432x288 with 1 Axes>",
      "image/png": "[encoded data removed]"
     },
     "metadata": {
      "needs_background": "light"
     },
     "output_type": "display_data"
    }
   ],
   "source": [
    "X_train, X_test, y_train, y_test = train_test_split(X, y, test_size=0.33, random_state=42)\n",
    "plt.hist(y_train, color='g')\n",
    "plt.show()\n",
    "plt.hist(y_test, color=\"r\")\n",
    "plt.show()"
   ],
   "metadata": {
    "collapsed": false,
    "pycharm": {
     "name": "#%%\n"
    }
   }
  },
  {
   "cell_type": "code",
   "execution_count": 126,
   "outputs": [],
   "source": [
    "regressor = RandomForestRegressor(n_estimators=42, criterion=\"absolute_error\", random_state=42)\n",
    "#regressor = LinearRegression()\n",
    "#regressor = SVR(kernel=\"poly\", C = 1.5)\n",
    "model = regressor.fit(X_train, y_train)"
   ],
   "metadata": {
    "collapsed": false,
    "pycharm": {
     "name": "#%%\n"
    }
   }
  },
  {
   "cell_type": "code",
   "execution_count": 127,
   "outputs": [
    {
     "name": "stdout",
     "output_type": "stream",
     "text": [
      "MAE:  4.7 MSE:  37.82069160997732\n",
      "    Actual  Predicted         AE          SE\n",
      "0       21  26.095238  -5.095238   25.961451\n",
      "1       24  24.214286  -0.214286    0.045918\n",
      "2       56  61.595238  -5.595238   31.306689\n",
      "3       36  27.261905   8.738095   76.354308\n",
      "4       46  46.214286  -0.214286    0.045918\n",
      "5       61  61.880952  -0.880952    0.776077\n",
      "6       64  57.523810   6.476190   41.941043\n",
      "7       33  29.809524   3.190476   10.179138\n",
      "8       45  40.071429   4.928571   24.290816\n",
      "9       32  26.071429   5.928571   35.147959\n",
      "10      82  67.071429  14.928571  222.862245\n",
      "11      21  20.333333   0.666667    0.444444\n",
      "12      51  60.285714  -9.285714   86.224490\n",
      "13      42  49.690476  -7.690476   59.143424\n",
      "14      33  24.714286   8.285714   68.653061\n",
      "15      24  24.571429  -0.571429    0.326531\n",
      "16      25  22.523810   2.476190    6.131519\n",
      "17      42  41.785714   0.214286    0.045918\n",
      "18      56  56.476190  -0.476190    0.226757\n",
      "19      48  56.142857  -8.142857   66.306122\n"
     ]
    }
   ],
   "source": [
    "y_pred = regressor.predict(X_test)\n",
    "res = pd.DataFrame({\"Actual\": y_test, \"Predicted\": y_pred,\n",
    "                    \"AE\": y_test - y_pred,\n",
    "                    \"SE\": (y_test - y_pred) ** 2})\n",
    "print(\"MAE: \", mean_absolute_error(y_test, y_pred), \"MSE: \", mean_squared_error(y_test, y_pred))\n",
    "print(res)"
   ],
   "metadata": {
    "collapsed": false,
    "pycharm": {
     "name": "#%%\n"
    }
   }
  },
  {
   "cell_type": "code",
   "execution_count": 128,
   "outputs": [
    {
     "name": "stderr",
     "output_type": "stream",
     "text": [
      "C:\\Users\\Eugen\\AppData\\Local\\Temp/ipykernel_10396/3353738117.py:1: UserWarning: color is redundantly defined by the 'color' keyword argument and the fmt string \"bo-\" (-> color='b'). The keyword argument will take precedence.\n",
      "  plt.plot(y_pred, \"bo-\", c=\"r\")\n",
      "C:\\Users\\Eugen\\AppData\\Local\\Temp/ipykernel_10396/3353738117.py:2: UserWarning: color is redundantly defined by the 'color' keyword argument and the fmt string \"bo-\" (-> color='b'). The keyword argument will take precedence.\n",
      "  plt.plot(y_test, \"bo-\", c=\"g\")\n"
     ]
    },
    {
     "data": {
      "text/plain": "<Figure size 432x288 with 1 Axes>",
      "image/png": "[encoded data removed]"
     },
     "metadata": {
      "needs_background": "light"
     },
     "output_type": "display_data"
    }
   ],
   "source": [
    "plt.plot(y_pred, \"bo-\", c=\"r\")\n",
    "plt.plot(y_test, \"bo-\", c=\"g\")\n",
    "plt.plot(y_test - y_pred, c=\"b\")\n",
    "plt.show()"
   ],
   "metadata": {
    "collapsed": false,
    "pycharm": {
     "name": "#%%\n"
    }
   }
  }
 ],
 "metadata": {
  "kernelspec": {
   "display_name": "Python 3",
   "language": "python",
   "name": "python3"
  },
  "language_info": {
   "codemirror_mode": {
    "name": "ipython",
    "version": 2
   },
   "file_extension": ".py",
   "mimetype": "text/x-python",
   "name": "python",
   "nbconvert_exporter": "python",
   "pygments_lexer": "ipython2",
   "version": "2.7.6"
  }
 },
 "nbformat": 4,
 "nbformat_minor": 0
}