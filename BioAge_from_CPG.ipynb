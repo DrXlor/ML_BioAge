{
 "cells": [
  {
   "cell_type": "code",
   "execution_count": 15,
   "metadata": {
    "collapsed": true
   },
   "outputs": [],
   "source": [
    "import math\n",
    "import numpy as np\n",
    "import pandas as pd\n",
    "from sklearn.linear_model import LinearRegression\n",
    "from sklearn.ensemble import RandomForestRegressor\n",
    "from sklearn.svm import SVR\n",
    "from sklearn.model_selection import cross_val_score\n",
    "from sklearn.metrics import r2_score as r2\n",
    "from sklearn.metrics import mean_absolute_error\n",
    "from sklearn.metrics import mean_squared_error\n",
    "from sklearn.model_selection import train_test_split\n",
    "from sklearn.preprocessing import Normalizer\n",
    "from sklearn.decomposition import PCA\n",
    "import matplotlib.pyplot as plt\n",
    "from sklearn.feature_selection import SelectKBest\n",
    "from sklearn.feature_selection import chi2"
   ]
  },
  {
   "cell_type": "code",
   "execution_count": 16,
   "outputs": [],
   "source": [
    "X = (np.load(\"../BIO_Ml/GSE52588/GSE52588_beta_fn.npz\"))[\"X\"]\n",
    "data = pd.read_csv(\"../BIO_Ml/GSE52588/GSE52588_samples.csv\", delim_whitespace=True)\n",
    "names = pd.read_csv(\"../BIO_Ml/GSE52588/cpgs_annotations.csv\")\n",
    "#names = pd.read_table(\"../BIO_Ml/GSE52588/cpgs_annotations.csv\", delim_whitespace=True)\n",
    "#names = names[\"UCSC_REFGENE_NAME\"]\n",
    "#names = names.replace(np.nan, \"0\")"
   ],
   "metadata": {
    "collapsed": false,
    "pycharm": {
     "name": "#%%\n"
    }
   }
  },
  {
   "cell_type": "code",
   "execution_count": 17,
   "outputs": [],
   "source": [
    "y = data[\"age\"]\n",
    "y = y.to_numpy()\n",
    "X = Normalizer().fit_transform(X)"
   ],
   "metadata": {
    "collapsed": false,
    "pycharm": {
     "name": "#%%\n"
    }
   }
  },
  {
   "cell_type": "code",
   "execution_count": 18,
   "outputs": [
    {
     "data": {
      "text/plain": "<Figure size 432x288 with 1 Axes>",
      "image/png": "[encoded data removed]"
     },
     "metadata": {
      "needs_background": "light"
     },
     "output_type": "display_data"
    }
   ],
   "source": [
    "y = y[29:]\n",
    "X = X[29:]\n",
    "plt.hist(y)\n",
    "plt.show()\n"
   ],
   "metadata": {
    "collapsed": false,
    "pycharm": {
     "name": "#%%\n"
    }
   }
  },
  {
   "cell_type": "code",
   "execution_count": 19,
   "outputs": [],
   "source": [
    "test1 = SelectKBest(score_func=chi2, k=10000)\n",
    "fit = test1.fit(X, y)\n",
    "X = fit.transform(X)"
   ],
   "metadata": {
    "collapsed": false,
    "pycharm": {
     "name": "#%%\n"
    }
   }
  },
  {
   "cell_type": "code",
   "execution_count": 20,
   "outputs": [],
   "source": [
    "selector = RandomForestRegressor(n_estimators=30, criterion=\"squared_error\", random_state=42)\n",
    "model = selector.fit(X, y)\n",
    "importances = model.feature_importances_\n",
    "\n",
    "important_features = []\n",
    "for i in range(len(importances)):\n",
    "    important_features.append(list(importances).index(importances[i])) if importances[i] > 0 else 0\n",
    "X = X[..., important_features]"
   ],
   "metadata": {
    "collapsed": false,
    "pycharm": {
     "name": "#%%\n"
    }
   }
  },
  {
   "cell_type": "code",
   "execution_count": 21,
   "outputs": [],
   "source": [
    "#ax.scatter(y[1:], X[1:,0])\n",
    "#ax.scatter(y[0:1], X[0:1,0])\n",
    "#for i in range(5):\n",
    "#    ax.scatter(y, X[:,i])\n",
    "\n",
    "feature = 34\n",
    "x = y\n",
    "y = X[:, feature]"
   ],
   "metadata": {
    "collapsed": false,
    "pycharm": {
     "name": "#%%\n"
    }
   }
  },
  {
   "cell_type": "code",
   "execution_count": 22,
   "outputs": [
    {
     "name": "stderr",
     "output_type": "stream",
     "text": [
      "C:\\Users\\Eugen\\AppData\\Local\\Temp/ipykernel_8964/4260569751.py:9: UserWarning: Matplotlib is currently using module://matplotlib_inline.backend_inline, which is a non-GUI backend, so cannot show the figure.\n",
      "  fig1.show()\n",
      "C:\\Users\\Eugen\\AppData\\Local\\Temp/ipykernel_8964/4260569751.py:17: UserWarning: Matplotlib is currently using module://matplotlib_inline.backend_inline, which is a non-GUI backend, so cannot show the figure.\n",
      "  fig2.show()\n"
     ]
    },
    {
     "data": {
      "text/plain": "<Figure size 432x288 with 1 Axes>",
      "image/png": "[encoded data removed]"
     },
     "metadata": {
      "needs_background": "light"
     },
     "output_type": "display_data"
    },
    {
     "data": {
      "text/plain": "<Figure size 432x288 with 1 Axes>",
      "image/png": "[encoded data removed]"
     },
     "metadata": {
      "needs_background": "light"
     },
     "output_type": "display_data"
    }
   ],
   "source": [
    "fig1 = plt.figure()\n",
    "ax = plt.axes()\n",
    "\n",
    "ax.scatter(x, y)\n",
    "median = np.median(y)\n",
    "ax.axhline(median, c=\"r\")\n",
    "ax.axhline((median - (0.1 * (max(y - min(y))))), c=\"r\", linestyle=\"-.\")\n",
    "ax.axhline((median + (0.1 * (max(y - min(y))))), c=\"r\", linestyle=\"-.\")\n",
    "fig1.show()\n",
    "\n",
    "fig2 = plt.figure()\n",
    "ax = plt.axes()\n",
    "ax.plot(x,y, 'o')\n",
    "m, b = np.polyfit(x, y, 1)\n",
    "ax.plot(x, m*x+b, c=\"r\")\n",
    "\n",
    "fig2.show()"
   ],
   "metadata": {
    "collapsed": false,
    "pycharm": {
     "name": "#%%\n"
    }
   }
  },
  {
   "cell_type": "code",
   "execution_count": 23,
   "outputs": [],
   "source": [
    "#names = names[important_features]\n",
    "#names = names.drop_duplicates()\n",
    "#print(names)\n",
    "#names.to_excel(\"../BIO_Ml/GSE52588/gene_names_CpG_based.xlsx\")"
   ],
   "metadata": {
    "collapsed": false,
    "pycharm": {
     "name": "#%%\n"
    }
   }
  },
  {
   "cell_type": "code",
   "execution_count": 24,
   "outputs": [
    {
     "data": {
      "text/plain": "<Figure size 432x288 with 1 Axes>",
      "image/png": "[encoded data removed]"
     },
     "metadata": {
      "needs_background": "light"
     },
     "output_type": "display_data"
    },
    {
     "data": {
      "text/plain": "<Figure size 432x288 with 1 Axes>",
      "image/png": "[encoded data removed]"
     },
     "metadata": {
      "needs_background": "light"
     },
     "output_type": "display_data"
    }
   ],
   "source": [
    "X_train, X_test, y_train, y_test = train_test_split(X, y, test_size=0.33, random_state=42)\n",
    "plt.hist(y_train, color='g')\n",
    "plt.show()\n",
    "plt.hist(y_test, color=\"r\")\n",
    "plt.show()"
   ],
   "metadata": {
    "collapsed": false,
    "pycharm": {
     "name": "#%%\n"
    }
   }
  },
  {
   "cell_type": "code",
   "execution_count": 25,
   "outputs": [],
   "source": [
    "regressor = RandomForestRegressor(n_estimators=42, criterion=\"absolute_error\", random_state=42)\n",
    "#regressor = LinearRegression()\n",
    "#regressor = SVR(kernel=\"poly\", C = 1.5)\n",
    "model = regressor.fit(X_train, y_train)"
   ],
   "metadata": {
    "collapsed": false,
    "pycharm": {
     "name": "#%%\n"
    }
   }
  },
  {
   "cell_type": "code",
   "execution_count": 26,
   "outputs": [
    {
     "name": "stdout",
     "output_type": "stream",
     "text": [
      "MAE:  1.7373961834112246e-05 MSE:  5.067752997336254e-10\n",
      "      Actual  Predicted            AE            SE\n",
      "0   0.000083   0.000078  4.847625e-06  2.349947e-11\n",
      "1   0.000103   0.000097  6.325897e-06  4.001697e-11\n",
      "2   0.000303   0.000311 -7.911673e-06  6.259456e-11\n",
      "3   0.000056   0.000077 -2.062105e-05  4.252276e-10\n",
      "4   0.000284   0.000238  4.668958e-05  2.179916e-09\n",
      "5   0.000139   0.000150 -1.127515e-05  1.271290e-10\n",
      "6   0.000188   0.000183  5.129538e-06  2.631216e-11\n",
      "7   0.000042   0.000065 -2.314375e-05  5.356333e-10\n",
      "8   0.000114   0.000144 -3.002661e-05  9.015972e-10\n",
      "9   0.000218   0.000240 -2.207602e-05  4.873508e-10\n",
      "10  0.000324   0.000377 -5.343584e-05  2.855389e-09\n",
      "11  0.000066   0.000066 -2.099575e-07  4.408217e-14\n",
      "12  0.000262   0.000259  3.048770e-06  9.295001e-12\n",
      "13  0.000071   0.000073 -2.382259e-06  5.675158e-12\n",
      "14  0.000059   0.000077 -1.758853e-05  3.093562e-10\n",
      "15  0.000062   0.000080 -1.807950e-05  3.268682e-10\n",
      "16  0.000043   0.000066 -2.252650e-05  5.074433e-10\n",
      "17  0.000045   0.000070 -2.480934e-05  6.155032e-10\n",
      "18  0.000169   0.000196 -2.637617e-05  6.957024e-10\n",
      "19  0.000077   0.000078 -9.754844e-07  9.515699e-13\n"
     ]
    }
   ],
   "source": [
    "y_pred = regressor.predict(X_test)\n",
    "res = pd.DataFrame({\"Actual\": y_test, \"Predicted\": y_pred,\n",
    "                    \"AE\": y_test - y_pred,\n",
    "                    \"SE\": (y_test - y_pred) ** 2})\n",
    "print(\"MAE: \", mean_absolute_error(y_test, y_pred), \"MSE: \", mean_squared_error(y_test, y_pred))\n",
    "print(res)"
   ],
   "metadata": {
    "collapsed": false,
    "pycharm": {
     "name": "#%%\n"
    }
   }
  },
  {
   "cell_type": "code",
   "execution_count": 27,
   "outputs": [
    {
     "name": "stderr",
     "output_type": "stream",
     "text": [
      "C:\\Users\\Eugen\\AppData\\Local\\Temp/ipykernel_8964/3353738117.py:1: UserWarning: color is redundantly defined by the 'color' keyword argument and the fmt string \"bo-\" (-> color='b'). The keyword argument will take precedence.\n",
      "  plt.plot(y_pred, \"bo-\", c=\"r\")\n",
      "C:\\Users\\Eugen\\AppData\\Local\\Temp/ipykernel_8964/3353738117.py:2: UserWarning: color is redundantly defined by the 'color' keyword argument and the fmt string \"bo-\" (-> color='b'). The keyword argument will take precedence.\n",
      "  plt.plot(y_test, \"bo-\", c=\"g\")\n"
     ]
    },
    {
     "data": {
      "text/plain": "<Figure size 432x288 with 1 Axes>",
      "image/png": "[encoded data removed]"
     },
     "metadata": {
      "needs_background": "light"
     },
     "output_type": "display_data"
    }
   ],
   "source": [
    "plt.plot(y_pred, \"bo-\", c=\"r\")\n",
    "plt.plot(y_test, \"bo-\", c=\"g\")\n",
    "plt.plot(y_test - y_pred, c=\"b\")\n",
    "plt.show()"
   ],
   "metadata": {
    "collapsed": false,
    "pycharm": {
     "name": "#%%\n"
    }
   }
  }
 ],
 "metadata": {
  "kernelspec": {
   "display_name": "Python 3",
   "language": "python",
   "name": "python3"
  },
  "language_info": {
   "codemirror_mode": {
    "name": "ipython",
    "version": 2
   },
   "file_extension": ".py",
   "mimetype": "text/x-python",
   "name": "python",
   "nbconvert_exporter": "python",
   "pygments_lexer": "ipython2",
   "version": "2.7.6"
  }
 },
 "nbformat": 4,
 "nbformat_minor": 0
}