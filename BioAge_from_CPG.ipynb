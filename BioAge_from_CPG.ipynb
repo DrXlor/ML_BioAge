{
 "cells": [
  {
   "cell_type": "code",
   "execution_count": 325,
   "metadata": {
    "collapsed": true
   },
   "outputs": [],
   "source": [
    " import math\n",
    "import numpy as np\n",
    "import pandas as pd\n",
    "from sklearn.linear_model import LinearRegression\n",
    "from sklearn.ensemble import RandomForestRegressor\n",
    "from sklearn.svm import SVR\n",
    "from sklearn.model_selection import cross_val_score\n",
    "from sklearn.metrics import r2_score as r2\n",
    "from sklearn.metrics import mean_absolute_error\n",
    "from sklearn.metrics import mean_squared_error\n",
    "from sklearn.model_selection import train_test_split\n",
    "from sklearn.preprocessing import Normalizer\n",
    "from sklearn.decomposition import PCA\n",
    "import matplotlib.pyplot as plt\n",
    "from sklearn.feature_selection import SelectKBest\n",
    "from sklearn.feature_selection import chi2"
   ]
  },
  {
   "cell_type": "code",
   "execution_count": 326,
   "outputs": [
    {
     "name": "stdout",
     "output_type": "stream",
     "text": [
      "0                    RBL2\n",
      "1         C3orf35;C3orf35\n",
      "2           FNDC3B;FNDC3B\n",
      "3                       0\n",
      "4             VDAC3;VDAC3\n",
      "               ...       \n",
      "485572                  0\n",
      "485573                  0\n",
      "485574                  0\n",
      "485575                  0\n",
      "485576                  0\n",
      "Name: UCSC_REFGENE_NAME, Length: 485577, dtype: object\n"
     ]
    }
   ],
   "source": [
    "X = (np.load(\"../BIO_Ml/GSE52588/GSE52588_beta_fn.npz\"))[\"X\"]\n",
    "data = pd.read_csv(\"../BIO_Ml/GSE52588/GSE52588_samples.csv\", delim_whitespace=True)\n",
    "names = pd.read_csv(\"../BIO_Ml/GSE52588/cpgs_annotations.csv\")\n",
    "#names = pd.read_table(\"../BIO_Ml/GSE52588/cpgs_annotations.csv\", delim_whitespace=True)\n",
    "#names = names[\"UCSC_REFGENE_NAME\"]\n",
    "#names = names.replace(np.nan, \"0\")"
   ],
   "metadata": {
    "collapsed": false,
    "pycharm": {
     "name": "#%%\n"
    }
   }
  },
  {
   "cell_type": "code",
   "execution_count": 327,
   "outputs": [],
   "source": [
    "y = data[\"age\"]\n",
    "y = y.to_numpy()\n",
    "X = Normalizer().fit_transform(X)"
   ],
   "metadata": {
    "collapsed": false,
    "pycharm": {
     "name": "#%%\n"
    }
   }
  },
  {
   "cell_type": "code",
   "execution_count": 328,
   "outputs": [
    {
     "data": {
      "text/plain": "<Figure size 432x288 with 1 Axes>",
      "image/png": "[encoded data removed]"
     },
     "metadata": {
      "needs_background": "light"
     },
     "output_type": "display_data"
    }
   ],
   "source": [
    "y = y[29:]\n",
    "X = X[29:]\n",
    "plt.hist(y)\n",
    "plt.show()\n"
   ],
   "metadata": {
    "collapsed": false,
    "pycharm": {
     "name": "#%%\n"
    }
   }
  },
  {
   "cell_type": "code",
   "execution_count": 329,
   "outputs": [],
   "source": [
    "test1 = SelectKBest(score_func=chi2, k = 10000)\n",
    "fit = test1.fit(X, y)\n",
    "X = fit.transform(X)"
   ],
   "metadata": {
    "collapsed": false,
    "pycharm": {
     "name": "#%%\n"
    }
   }
  },
  {
   "cell_type": "code",
   "execution_count": 330,
   "outputs": [
    {
     "name": "stdout",
     "output_type": "stream",
     "text": [
      "33                        0\n",
      "78                     LHX5\n",
      "138     TCTE3;C6orf70;TCTE3\n",
      "143                 MTHFD2L\n",
      "163                  ZNF362\n",
      "               ...         \n",
      "9931                  DOCK6\n",
      "9933                   SMC3\n",
      "9989    FLRT3;MACROD2;FLRT3\n",
      "9992            DUOX1;DUOX1\n",
      "9996                   TAC3\n",
      "Name: UCSC_REFGENE_NAME, Length: 530, dtype: object\n"
     ]
    }
   ],
   "source": [
    "selector = RandomForestRegressor(n_estimators=30, criterion=\"squared_error\", random_state= 42)\n",
    "model = selector.fit(X, y)\n",
    "importances = model.feature_importances_\n",
    "\n",
    "important_features = []\n",
    "for i in range(len(importances)):\n",
    "    important_features.append(list(importances).index(importances[i])) if importances[i] > 0 else 0\n",
    "X = X[..., important_features]\n",
    "\n",
    "#names = names[important_features]\n",
    "#names = names.drop_duplicates()\n",
    "#print(names)\n",
    "#names.to_excel(\"../BIO_Ml/GSE52588/gene_names_CpG_based.xlsx\")"
   ],
   "metadata": {
    "collapsed": false,
    "pycharm": {
     "name": "#%%\n"
    }
   }
  },
  {
   "cell_type": "code",
   "execution_count": 331,
   "outputs": [
    {
     "data": {
      "text/plain": "<Figure size 432x288 with 1 Axes>",
      "image/png": "[encoded data removed]"
     },
     "metadata": {
      "needs_background": "light"
     },
     "output_type": "display_data"
    },
    {
     "data": {
      "text/plain": "<Figure size 432x288 with 1 Axes>",
      "image/png": "[encoded data removed]"
     },
     "metadata": {
      "needs_background": "light"
     },
     "output_type": "display_data"
    }
   ],
   "source": [
    "X_train, X_test, y_train, y_test = train_test_split(X, y, test_size=0.33, random_state=42)\n",
    "plt.hist(y_train, color='g')\n",
    "plt.show()\n",
    "plt.hist(y_test, color= \"r\")\n",
    "plt.show()"
   ],
   "metadata": {
    "collapsed": false,
    "pycharm": {
     "name": "#%%\n"
    }
   }
  },
  {
   "cell_type": "code",
   "execution_count": 332,
   "outputs": [],
   "source": [
    "regressor = RandomForestRegressor(n_estimators=42, criterion=\"absolute_error\", random_state= 42)\n",
    "#regressor = LinearRegression()\n",
    "#regressor = SVR(kernel=\"poly\", C = 1.5)\n",
    "model = regressor.fit(X_train, y_train)"
   ],
   "metadata": {
    "collapsed": false,
    "pycharm": {
     "name": "#%%\n"
    }
   }
  },
  {
   "cell_type": "code",
   "execution_count": 333,
   "outputs": [
    {
     "name": "stdout",
     "output_type": "stream",
     "text": [
      "MAE:  4.104761904761905 MSE:  30.91893424036282\n",
      "    Actual  Predicted         AE          SE\n",
      "0       21  25.880952  -4.880952   23.823696\n",
      "1       24  24.642857  -0.642857    0.413265\n",
      "2       56  59.928571  -3.928571   15.433673\n",
      "3       36  33.714286   2.285714    5.224490\n",
      "4       46  46.809524  -0.809524    0.655329\n",
      "5       61  60.809524   0.190476    0.036281\n",
      "6       64  57.571429   6.428571   41.326531\n",
      "7       33  28.833333   4.166667   17.361111\n",
      "8       45  43.166667   1.833333    3.361111\n",
      "9       32  31.571429   0.428571    0.183673\n",
      "10      82  66.071429  15.928571  253.719388\n",
      "11      21  24.023810  -3.023810    9.143424\n",
      "12      51  55.642857  -4.642857   21.556122\n",
      "13      42  50.380952  -8.380952   70.240363\n",
      "14      33  28.214286   4.785714   22.903061\n",
      "15      24  24.904762  -0.904762    0.818594\n",
      "16      25  28.166667  -3.166667   10.027778\n",
      "17      42  44.476190  -2.476190    6.131519\n",
      "18      56  53.214286   2.785714    7.760204\n",
      "19      48  58.404762 -10.404762  108.259070\n"
     ]
    }
   ],
   "source": [
    "y_pred = regressor.predict(X_test)\n",
    "res = pd.DataFrame({\"Actual\": y_test, \"Predicted\": y_pred,\n",
    "                    \"AE\": y_test - y_pred,\n",
    "                    \"SE\": (y_test - y_pred)**2})\n",
    "print(\"MAE: \", mean_absolute_error(y_test, y_pred), \"MSE: \", mean_squared_error(y_test, y_pred))\n",
    "print(res)"
   ],
   "metadata": {
    "collapsed": false,
    "pycharm": {
     "name": "#%%\n"
    }
   }
  },
  {
   "cell_type": "code",
   "execution_count": 334,
   "outputs": [
    {
     "name": "stderr",
     "output_type": "stream",
     "text": [
      "C:\\Users\\Eugen\\AppData\\Local\\Temp/ipykernel_3192/3201256746.py:1: UserWarning: color is redundantly defined by the 'color' keyword argument and the fmt string \"bo-\" (-> color='b'). The keyword argument will take precedence.\n",
      "  plt.plot(y_pred,\"bo-\", c= \"r\")\n",
      "C:\\Users\\Eugen\\AppData\\Local\\Temp/ipykernel_3192/3201256746.py:2: UserWarning: color is redundantly defined by the 'color' keyword argument and the fmt string \"bo-\" (-> color='b'). The keyword argument will take precedence.\n",
      "  plt.plot(y_test,\"bo-\", c= \"g\")\n"
     ]
    },
    {
     "data": {
      "text/plain": "<Figure size 432x288 with 1 Axes>",
      "image/png": "[encoded data removed]"
     },
     "metadata": {
      "needs_background": "light"
     },
     "output_type": "display_data"
    }
   ],
   "source": [
    "plt.plot(y_pred,\"bo-\", c= \"r\")\n",
    "plt.plot(y_test,\"bo-\", c= \"g\")\n",
    "plt.plot(y_test-y_pred, c= \"b\")\n",
    "plt.show()"
   ],
   "metadata": {
    "collapsed": false,
    "pycharm": {
     "name": "#%%\n"
    }
   }
  }
 ],
 "metadata": {
  "kernelspec": {
   "display_name": "Python 3",
   "language": "python",
   "name": "python3"
  },
  "language_info": {
   "codemirror_mode": {
    "name": "ipython",
    "version": 2
   },
   "file_extension": ".py",
   "mimetype": "text/x-python",
   "name": "python",
   "nbconvert_exporter": "python",
   "pygments_lexer": "ipython2",
   "version": "2.7.6"
  }
 },
 "nbformat": 4,
 "nbformat_minor": 0
}