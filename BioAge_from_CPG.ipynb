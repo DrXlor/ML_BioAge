{
 "cells": [
  {
   "cell_type": "code",
   "execution_count": 3,
   "metadata": {
    "collapsed": true
   },
   "outputs": [],
   "source": [
    "import math\n",
    "import numpy as np\n",
    "import pandas as pd\n",
    "from sklearn.linear_model import LinearRegression\n",
    "from sklearn.ensemble import RandomForestRegressor\n",
    "from sklearn.svm import SVR\n",
    "from sklearn.model_selection import cross_val_score\n",
    "from sklearn.metrics import r2_score as r2\n",
    "from sklearn.metrics import mean_absolute_error\n",
    "from sklearn.metrics import mean_squared_error\n",
    "from sklearn.model_selection import train_test_split\n",
    "from sklearn.preprocessing import Normalizer\n",
    "from sklearn.decomposition import PCA\n",
    "import matplotlib.pyplot as plt\n",
    "from sklearn.feature_selection import SelectKBest\n",
    "from sklearn.feature_selection import chi2"
   ]
  },
  {
   "cell_type": "code",
   "execution_count": 4,
   "outputs": [],
   "source": [
    "X = (np.load(\"../BIO_Ml/GSE52588/GSE52588_beta_fn.npz\"))[\"X\"]\n",
    "data = pd.read_csv(\"../BIO_Ml/GSE52588/GSE52588_samples.csv\", delim_whitespace=True)"
   ],
   "metadata": {
    "collapsed": false,
    "pycharm": {
     "name": "#%%\n"
    }
   }
  },
  {
   "cell_type": "code",
   "execution_count": 5,
   "outputs": [],
   "source": [
    "y = data[\"age\"]\n",
    "y = y.to_numpy()\n",
    "X = Normalizer().fit_transform(X)"
   ],
   "metadata": {
    "collapsed": false,
    "pycharm": {
     "name": "#%%\n"
    }
   }
  },
  {
   "cell_type": "code",
   "execution_count": 6,
   "outputs": [
    {
     "data": {
      "text/plain": "<Figure size 432x288 with 1 Axes>",
      "image/png": "[encoded data removed]"
     },
     "metadata": {
      "needs_background": "light"
     },
     "output_type": "display_data"
    }
   ],
   "source": [
    "y = y[29:]\n",
    "X = X[29:]\n",
    "plt.hist(y)\n",
    "plt.show()"
   ],
   "metadata": {
    "collapsed": false,
    "pycharm": {
     "name": "#%%\n"
    }
   }
  },
  {
   "cell_type": "code",
   "execution_count": 7,
   "outputs": [],
   "source": [
    "test1 = SelectKBest(score_func=chi2, k = 10000)\n",
    "fit = test1.fit(X, y)\n",
    "X = fit.transform(X)"
   ],
   "metadata": {
    "collapsed": false,
    "pycharm": {
     "name": "#%%\n"
    }
   }
  },
  {
   "cell_type": "code",
   "execution_count": 8,
   "outputs": [],
   "source": [
    "selector = RandomForestRegressor(n_estimators=60, criterion=\"squared_error\", random_state= 42)\n",
    "model = selector.fit(X, y)\n",
    "importances = model.feature_importances_\n",
    "\n",
    "important_features = []\n",
    "for i in range(len(importances)):\n",
    "    important_features.append(list(importances).index(importances[i])) if importances[i] > 0 else 0\n",
    "X = X[..., important_features]"
   ],
   "metadata": {
    "collapsed": false,
    "pycharm": {
     "name": "#%%\n"
    }
   }
  },
  {
   "cell_type": "code",
   "execution_count": 9,
   "outputs": [
    {
     "data": {
      "text/plain": "<Figure size 432x288 with 1 Axes>",
      "image/png": "[encoded data removed]"
     },
     "metadata": {
      "needs_background": "light"
     },
     "output_type": "display_data"
    },
    {
     "data": {
      "text/plain": "<Figure size 432x288 with 1 Axes>",
      "image/png": "[encoded data removed]"
     },
     "metadata": {
      "needs_background": "light"
     },
     "output_type": "display_data"
    }
   ],
   "source": [
    "X_train, X_test, y_train, y_test = train_test_split(X, y, test_size=0.33, random_state=42)\n",
    "plt.hist(y_train, color='g')\n",
    "plt.show()\n",
    "plt.hist(y_test, color= \"r\")\n",
    "plt.show()"
   ],
   "metadata": {
    "collapsed": false,
    "pycharm": {
     "name": "#%%\n"
    }
   }
  },
  {
   "cell_type": "code",
   "execution_count": 10,
   "outputs": [],
   "source": [
    "regressor = RandomForestRegressor(n_estimators=73, criterion=\"absolute_error\", random_state= 42)\n",
    "#regressor = LinearRegression()\n",
    "#regressor = SVR(kernel=\"poly\", C = 1.5)\n",
    "model = regressor.fit(X_train, y_train)"
   ],
   "metadata": {
    "collapsed": false,
    "pycharm": {
     "name": "#%%\n"
    }
   }
  },
  {
   "cell_type": "code",
   "execution_count": 11,
   "outputs": [
    {
     "name": "stdout",
     "output_type": "stream",
     "text": [
      "MAE:  3.9256849315068507 MSE:  32.64602880465378\n",
      "    Actual  Predicted         AE          SE\n",
      "0       21  23.479452  -2.479452    6.147682\n",
      "1       24  24.616438  -0.616438    0.379996\n",
      "2       56  59.143836  -3.143836    9.883702\n",
      "3       36  30.506849   5.493151   30.174704\n",
      "4       46  48.890411  -2.890411    8.354476\n",
      "5       61  60.732877   0.267123    0.071355\n",
      "6       64  59.260274   4.739726   22.465003\n",
      "7       33  29.363014   3.636986   13.227669\n",
      "8       45  43.465753   1.534247    2.353913\n",
      "9       32  30.027397   1.972603    3.891162\n",
      "10      82  61.794521  20.205479  408.261400\n",
      "11      21  23.493151  -2.493151    6.215800\n",
      "12      51  54.520548  -3.520548   12.394258\n",
      "13      42  48.904110  -6.904110   47.666729\n",
      "14      33  27.972603   5.027397   25.274723\n",
      "15      24  26.068493  -2.068493    4.278664\n",
      "16      25  24.671233   0.328767    0.108088\n",
      "17      42  44.438356  -2.438356    5.945581\n",
      "18      56  53.561644   2.438356    5.945581\n",
      "19      48  54.315068  -6.315068   39.880090\n"
     ]
    }
   ],
   "source": [
    "y_pred = regressor.predict(X_test)\n",
    "res = pd.DataFrame({\"Actual\": y_test, \"Predicted\": y_pred,\n",
    "                    \"AE\": y_test - y_pred,\n",
    "                    \"SE\": (y_test - y_pred)**2})\n",
    "print(\"MAE: \", mean_absolute_error(y_test, y_pred), \"MSE: \", mean_squared_error(y_test, y_pred))\n",
    "print(res)"
   ],
   "metadata": {
    "collapsed": false,
    "pycharm": {
     "name": "#%%\n"
    }
   }
  },
  {
   "cell_type": "code",
   "execution_count": 12,
   "outputs": [
    {
     "name": "stderr",
     "output_type": "stream",
     "text": [
      "C:\\Users\\Eugen\\AppData\\Local\\Temp/ipykernel_12232/3201256746.py:1: UserWarning: color is redundantly defined by the 'color' keyword argument and the fmt string \"bo-\" (-> color='b'). The keyword argument will take precedence.\n",
      "  plt.plot(y_pred,\"bo-\", c= \"r\")\n",
      "C:\\Users\\Eugen\\AppData\\Local\\Temp/ipykernel_12232/3201256746.py:2: UserWarning: color is redundantly defined by the 'color' keyword argument and the fmt string \"bo-\" (-> color='b'). The keyword argument will take precedence.\n",
      "  plt.plot(y_test,\"bo-\", c= \"g\")\n"
     ]
    },
    {
     "data": {
      "text/plain": "<Figure size 432x288 with 1 Axes>",
      "image/png": "[encoded data removed]"
     },
     "metadata": {
      "needs_background": "light"
     },
     "output_type": "display_data"
    }
   ],
   "source": [
    "plt.plot(y_pred,\"bo-\", c= \"r\")\n",
    "plt.plot(y_test,\"bo-\", c= \"g\")\n",
    "plt.plot(y_test-y_pred, c= \"b\")\n",
    "plt.show()"
   ],
   "metadata": {
    "collapsed": false,
    "pycharm": {
     "name": "#%%\n"
    }
   }
  }
 ],
 "metadata": {
  "kernelspec": {
   "display_name": "Python 3",
   "language": "python",
   "name": "python3"
  },
  "language_info": {
   "codemirror_mode": {
    "name": "ipython",
    "version": 2
   },
   "file_extension": ".py",
   "mimetype": "text/x-python",
   "name": "python",
   "nbconvert_exporter": "python",
   "pygments_lexer": "ipython2",
   "version": "2.7.6"
  }
 },
 "nbformat": 4,
 "nbformat_minor": 0
}