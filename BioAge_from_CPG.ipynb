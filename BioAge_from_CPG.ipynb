{
 "cells": [
  {
   "cell_type": "code",
   "execution_count": 22,
   "metadata": {
    "collapsed": true
   },
   "outputs": [
    {
     "ename": "ImportError",
     "evalue": "cannot import name 'get_features' from 'BioAgeLib' (C:\\Users\\Eugen\\PycharmProjects\\Python_Study\\ML_NNSU\\BioAgeLib.py)",
     "output_type": "error",
     "traceback": [
      "\u001B[1;31m---------------------------------------------------------------------------\u001B[0m",
      "\u001B[1;31mImportError\u001B[0m                               Traceback (most recent call last)",
      "\u001B[1;32m~\\AppData\\Local\\Temp/ipykernel_7312/4277625105.py\u001B[0m in \u001B[0;36m<module>\u001B[1;34m\u001B[0m\n\u001B[0;32m     15\u001B[0m \u001B[1;32mfrom\u001B[0m \u001B[0msklearn\u001B[0m\u001B[1;33m.\u001B[0m\u001B[0mfeature_selection\u001B[0m \u001B[1;32mimport\u001B[0m \u001B[0mSelectKBest\u001B[0m\u001B[1;33m\u001B[0m\u001B[1;33m\u001B[0m\u001B[0m\n\u001B[0;32m     16\u001B[0m \u001B[1;32mfrom\u001B[0m \u001B[0msklearn\u001B[0m\u001B[1;33m.\u001B[0m\u001B[0mfeature_selection\u001B[0m \u001B[1;32mimport\u001B[0m \u001B[0mchi2\u001B[0m\u001B[1;33m\u001B[0m\u001B[1;33m\u001B[0m\u001B[0m\n\u001B[1;32m---> 17\u001B[1;33m \u001B[1;32mfrom\u001B[0m \u001B[0mBioAgeLib\u001B[0m \u001B[1;32mimport\u001B[0m \u001B[0mget_features\u001B[0m\u001B[1;33m\u001B[0m\u001B[1;33m\u001B[0m\u001B[0m\n\u001B[0m\u001B[0;32m     18\u001B[0m \u001B[1;33m\u001B[0m\u001B[0m\n",
      "\u001B[1;31mImportError\u001B[0m: cannot import name 'get_features' from 'BioAgeLib' (C:\\Users\\Eugen\\PycharmProjects\\Python_Study\\ML_NNSU\\BioAgeLib.py)"
     ]
    }
   ],
   "source": [
    "import math\n",
    "import numpy as np\n",
    "import pandas as pd\n",
    "from sklearn.linear_model import LinearRegression\n",
    "from sklearn.ensemble import RandomForestRegressor\n",
    "from sklearn.svm import SVR\n",
    "from sklearn.model_selection import cross_val_score\n",
    "from sklearn.metrics import r2_score as r2\n",
    "from sklearn.metrics import mean_absolute_error\n",
    "from sklearn.metrics import mean_squared_error\n",
    "from sklearn.model_selection import train_test_split\n",
    "from sklearn.preprocessing import Normalizer\n",
    "from sklearn.decomposition import PCA\n",
    "import matplotlib.pyplot as plt\n",
    "from sklearn.feature_selection import SelectKBest\n",
    "from sklearn.feature_selection import chi2\n",
    "from BioAgeLib import get_features"
   ]
  },
  {
   "cell_type": "code",
   "execution_count": 23,
   "outputs": [],
   "source": [
    "X = (np.load(\"../BIO_Ml/GSE52588/GSE52588_beta_fn.npz\"))[\"X\"]\n",
    "data = pd.read_csv(\"../BIO_Ml/GSE52588/GSE52588_samples.csv\", delim_whitespace=True)\n",
    "names = pd.read_csv(\"../BIO_Ml/GSE52588/cpgs_annotations.csv\")\n",
    "names = names[\"UCSC_REFGENE_NAME\"]\n",
    "names = names.replace(np.nan, \"0\")"
   ],
   "metadata": {
    "collapsed": false,
    "pycharm": {
     "name": "#%%\n"
    }
   }
  },
  {
   "cell_type": "code",
   "execution_count": 24,
   "outputs": [],
   "source": [
    "y = data[\"age\"]\n",
    "y = y.to_numpy()\n",
    "X = Normalizer().fit_transform(X)"
   ],
   "metadata": {
    "collapsed": false,
    "pycharm": {
     "name": "#%%\n"
    }
   }
  },
  {
   "cell_type": "code",
   "execution_count": 25,
   "outputs": [
    {
     "data": {
      "text/plain": "<Figure size 432x288 with 1 Axes>",
      "image/png": "[encoded data removed]"
     },
     "metadata": {
      "needs_background": "light"
     },
     "output_type": "display_data"
    }
   ],
   "source": [
    "y = y[29:]\n",
    "X = X[29:]\n",
    "plt.hist(y)\n",
    "plt.show()\n"
   ],
   "metadata": {
    "collapsed": false,
    "pycharm": {
     "name": "#%%\n"
    }
   }
  },
  {
   "cell_type": "code",
   "execution_count": 26,
   "outputs": [],
   "source": [
    "test1 = SelectKBest(score_func=chi2, k=10000)\n",
    "fit = test1.fit(X, y)\n",
    "X = fit.transform(X)"
   ],
   "metadata": {
    "collapsed": false,
    "pycharm": {
     "name": "#%%\n"
    }
   }
  },
  {
   "cell_type": "code",
   "execution_count": 27,
   "outputs": [
    {
     "ename": "NameError",
     "evalue": "name 'get_features' is not defined",
     "output_type": "error",
     "traceback": [
      "\u001B[1;31m---------------------------------------------------------------------------\u001B[0m",
      "\u001B[1;31mNameError\u001B[0m                                 Traceback (most recent call last)",
      "\u001B[1;32m~\\AppData\\Local\\Temp/ipykernel_7312/1705585592.py\u001B[0m in \u001B[0;36m<module>\u001B[1;34m\u001B[0m\n\u001B[1;32m----> 1\u001B[1;33m X = get_features(X, y, 5,\n\u001B[0m\u001B[0;32m      2\u001B[0m             RandomForestRegressor(n_estimators=30, criterion=\"absolute_error\", random_state=42))\n",
      "\u001B[1;31mNameError\u001B[0m: name 'get_features' is not defined"
     ]
    }
   ],
   "source": [
    "X = get_features(X, y, 5,\n",
    "            RandomForestRegressor(n_estimators=30, criterion=\"absolute_error\", random_state=42))"
   ],
   "metadata": {
    "collapsed": false,
    "pycharm": {
     "name": "#%%\n"
    }
   }
  },
  {
   "cell_type": "code",
   "execution_count": null,
   "outputs": [],
   "source": [
    "#ax.scatter(y[1:], X[1:,0])\n",
    "#ax.scatter(y[0:1], X[0:1,0])\n",
    "#for i in range(5):\n",
    "#    ax.scatter(y, X[:,i])\n",
    "\n",
    "feature = 1\n",
    "ox = y\n",
    "oy = X[:, feature]"
   ],
   "metadata": {
    "collapsed": false,
    "pycharm": {
     "name": "#%%\n"
    }
   }
  },
  {
   "cell_type": "code",
   "execution_count": null,
   "outputs": [],
   "source": [
    "fig1 = plt.figure()\n",
    "ax = plt.axes()\n",
    "\n",
    "ax.scatter(ox, oy)\n",
    "median = np.median(oy)\n",
    "ax.axhline(median, c=\"r\")\n",
    "ax.axhline((median - (0.1 * (max(oy - min(oy))))), c=\"r\", linestyle=\"-.\")\n",
    "ax.axhline((median + (0.1 * (max(oy - min(oy))))), c=\"r\", linestyle=\"-.\")\n",
    "fig1.show()\n",
    "\n",
    "fig2 = plt.figure()\n",
    "ax = plt.axes()\n",
    "ax.plot(ox, oy, 'o')\n",
    "m, b = np.polyfit(ox, oy, 1)\n",
    "ax.plot(ox, m * ox + b, c=\"r\")\n",
    "\n",
    "fig2.show()"
   ],
   "metadata": {
    "collapsed": false,
    "pycharm": {
     "name": "#%%\n"
    }
   }
  },
  {
   "cell_type": "code",
   "execution_count": null,
   "outputs": [],
   "source": [
    "#names = names[importances]\n",
    "#names = names.drop_duplicates()\n",
    "#print(names)\n",
    "#names.to_excel(\"../BIO_Ml/GSE52588/gene_names_CpG_based.xlsx\")"
   ],
   "metadata": {
    "collapsed": false,
    "pycharm": {
     "name": "#%%\n"
    }
   }
  },
  {
   "cell_type": "code",
   "execution_count": null,
   "outputs": [],
   "source": [
    "X_train, X_test, y_train, y_test = train_test_split(X, y, test_size=0.33, random_state=42)\n",
    "plt.hist(y_train, color='g')\n",
    "plt.show()\n",
    "plt.hist(y_test, color=\"r\")\n",
    "plt.show()"
   ],
   "metadata": {
    "collapsed": false,
    "pycharm": {
     "name": "#%%\n"
    }
   }
  },
  {
   "cell_type": "code",
   "execution_count": null,
   "outputs": [],
   "source": [
    "regressor = RandomForestRegressor(n_estimators=42, criterion=\"absolute_error\", random_state=42)\n",
    "#regressor = LinearRegression()\n",
    "#regressor = SVR(kernel=\"poly\", C = 1.5)\n",
    "model = regressor.fit(X_train, y_train)"
   ],
   "metadata": {
    "collapsed": false,
    "pycharm": {
     "name": "#%%\n"
    }
   }
  },
  {
   "cell_type": "code",
   "execution_count": null,
   "outputs": [],
   "source": [
    "y_pred = regressor.predict(X_test)\n",
    "res = pd.DataFrame({\"Actual\": y_test, \"Predicted\": y_pred,\n",
    "                    \"AE\": y_test - y_pred,\n",
    "                    \"SE\": (y_test - y_pred) ** 2})\n",
    "print(\"MAE: \", mean_absolute_error(y_test, y_pred), \"MSE: \", mean_squared_error(y_test, y_pred))\n",
    "print(res)"
   ],
   "metadata": {
    "collapsed": false,
    "pycharm": {
     "name": "#%%\n"
    }
   }
  },
  {
   "cell_type": "code",
   "execution_count": null,
   "outputs": [],
   "source": [
    "plt.plot(y_pred, \"bo-\", c=\"r\")\n",
    "plt.plot(y_test, \"bo-\", c=\"g\")\n",
    "plt.plot(y_test - y_pred, c=\"b\")\n",
    "plt.show()"
   ],
   "metadata": {
    "collapsed": false,
    "pycharm": {
     "name": "#%%\n"
    }
   }
  },
  {
   "cell_type": "code",
   "execution_count": null,
   "outputs": [],
   "source": [
    "# Посмотреть аномалии\n",
    "# Нарисовать топ-n CpG\n",
    "# Из VAC вытащить фичи\n",
    "# Пересечь с лесом\n",
    "# Проекция CpG на плоскость\n",
    "# Стрим (проекция на сложное пространство)\n",
    "# SHAP\n"
   ],
   "metadata": {
    "collapsed": false,
    "pycharm": {
     "name": "#%%\n"
    }
   }
  }
 ],
 "metadata": {
  "kernelspec": {
   "display_name": "Python 3",
   "language": "python",
   "name": "python3"
  },
  "language_info": {
   "codemirror_mode": {
    "name": "ipython",
    "version": 2
   },
   "file_extension": ".py",
   "mimetype": "text/x-python",
   "name": "python",
   "nbconvert_exporter": "python",
   "pygments_lexer": "ipython2",
   "version": "2.7.6"
  }
 },
 "nbformat": 4,
 "nbformat_minor": 0
}